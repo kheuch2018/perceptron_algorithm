{
 "cells": [
  {
   "cell_type": "markdown",
   "id": "74c6d3fa",
   "metadata": {},
   "source": [
    "# The perceptron algorithm From Scratch\n",
    "### In this notebook I write the perceptron algorithm for classification\n",
    "### Here are the steps \n",
    "* Step 1: Importing libraries and dataset\n",
    "* Step 2: Creating functions add and substract for updating weights, isbelow for knowing if the point is below the line\n",
    "* Step 3: Initializing weights and bias randomly\n",
    "* Step 4: Looping through dataset and updating weights and bias \n"
   ]
  },
  {
   "cell_type": "markdown",
   "id": "0cde0b97",
   "metadata": {},
   "source": [
    "## Step 1: Importing libraries and dataset"
   ]
  },
  {
   "cell_type": "code",
   "execution_count": 1,
   "id": "30cacbe3",
   "metadata": {},
   "outputs": [],
   "source": [
    "import pandas as pd\n",
    "import numpy as np\n",
    "import matplotlib.pyplot as plt"
   ]
  },
  {
   "cell_type": "code",
   "execution_count": 2,
   "id": "cf26a826",
   "metadata": {},
   "outputs": [],
   "source": [
    "df = pd.read_csv('./datapoints.csv', names=[\"x1\",\"x2\",\"label\"])"
   ]
  },
  {
   "cell_type": "code",
   "execution_count": 3,
   "id": "55aba063",
   "metadata": {},
   "outputs": [
    {
     "data": {
      "text/html": [
       "<div>\n",
       "<style scoped>\n",
       "    .dataframe tbody tr th:only-of-type {\n",
       "        vertical-align: middle;\n",
       "    }\n",
       "\n",
       "    .dataframe tbody tr th {\n",
       "        vertical-align: top;\n",
       "    }\n",
       "\n",
       "    .dataframe thead th {\n",
       "        text-align: right;\n",
       "    }\n",
       "</style>\n",
       "<table border=\"1\" class=\"dataframe\">\n",
       "  <thead>\n",
       "    <tr style=\"text-align: right;\">\n",
       "      <th></th>\n",
       "      <th>x1</th>\n",
       "      <th>x2</th>\n",
       "      <th>label</th>\n",
       "    </tr>\n",
       "  </thead>\n",
       "  <tbody>\n",
       "    <tr>\n",
       "      <th>0</th>\n",
       "      <td>0.78051</td>\n",
       "      <td>-0.063669</td>\n",
       "      <td>1</td>\n",
       "    </tr>\n",
       "    <tr>\n",
       "      <th>1</th>\n",
       "      <td>0.28774</td>\n",
       "      <td>0.291390</td>\n",
       "      <td>1</td>\n",
       "    </tr>\n",
       "    <tr>\n",
       "      <th>2</th>\n",
       "      <td>0.40714</td>\n",
       "      <td>0.178780</td>\n",
       "      <td>1</td>\n",
       "    </tr>\n",
       "    <tr>\n",
       "      <th>3</th>\n",
       "      <td>0.29230</td>\n",
       "      <td>0.421700</td>\n",
       "      <td>1</td>\n",
       "    </tr>\n",
       "    <tr>\n",
       "      <th>4</th>\n",
       "      <td>0.50922</td>\n",
       "      <td>0.352560</td>\n",
       "      <td>1</td>\n",
       "    </tr>\n",
       "    <tr>\n",
       "      <th>...</th>\n",
       "      <td>...</td>\n",
       "      <td>...</td>\n",
       "      <td>...</td>\n",
       "    </tr>\n",
       "    <tr>\n",
       "      <th>95</th>\n",
       "      <td>0.77029</td>\n",
       "      <td>0.701400</td>\n",
       "      <td>0</td>\n",
       "    </tr>\n",
       "    <tr>\n",
       "      <th>96</th>\n",
       "      <td>0.73156</td>\n",
       "      <td>0.717820</td>\n",
       "      <td>0</td>\n",
       "    </tr>\n",
       "    <tr>\n",
       "      <th>97</th>\n",
       "      <td>0.44556</td>\n",
       "      <td>0.579910</td>\n",
       "      <td>0</td>\n",
       "    </tr>\n",
       "    <tr>\n",
       "      <th>98</th>\n",
       "      <td>0.85275</td>\n",
       "      <td>0.859870</td>\n",
       "      <td>0</td>\n",
       "    </tr>\n",
       "    <tr>\n",
       "      <th>99</th>\n",
       "      <td>0.51912</td>\n",
       "      <td>0.623590</td>\n",
       "      <td>0</td>\n",
       "    </tr>\n",
       "  </tbody>\n",
       "</table>\n",
       "<p>100 rows × 3 columns</p>\n",
       "</div>"
      ],
      "text/plain": [
       "         x1        x2  label\n",
       "0   0.78051 -0.063669      1\n",
       "1   0.28774  0.291390      1\n",
       "2   0.40714  0.178780      1\n",
       "3   0.29230  0.421700      1\n",
       "4   0.50922  0.352560      1\n",
       "..      ...       ...    ...\n",
       "95  0.77029  0.701400      0\n",
       "96  0.73156  0.717820      0\n",
       "97  0.44556  0.579910      0\n",
       "98  0.85275  0.859870      0\n",
       "99  0.51912  0.623590      0\n",
       "\n",
       "[100 rows x 3 columns]"
      ]
     },
     "execution_count": 3,
     "metadata": {},
     "output_type": "execute_result"
    }
   ],
   "source": [
    "df"
   ]
  },
  {
   "cell_type": "markdown",
   "id": "bd634ab8",
   "metadata": {},
   "source": [
    "## Creating functions add and substract for updating weights, isbelow for knowing if the point is below the line"
   ]
  },
  {
   "cell_type": "code",
   "execution_count": 4,
   "id": "a33e380d",
   "metadata": {},
   "outputs": [],
   "source": [
    "def substract(weights,bias,point):\n",
    "    new_w = np.subtract(weights,np.multiply(0.01,point))\n",
    "    new_b = bias - .01 \n",
    "    return new_w, new_b"
   ]
  },
  {
   "cell_type": "code",
   "execution_count": 5,
   "id": "535a1c2c",
   "metadata": {},
   "outputs": [],
   "source": [
    "def add(weights,bias,point):\n",
    "    new_w = np.add(weights,np.multiply(0.01,point))\n",
    "    new_b = bias + .01\n",
    "    return new_w, new_b"
   ]
  },
  {
   "cell_type": "code",
   "execution_count": 6,
   "id": "fc922b78",
   "metadata": {},
   "outputs": [],
   "source": [
    "def is_below(weights,point):\n",
    "    score = weights[0]*point[0] + weights[1]*point[1] + b[0]\n",
    "    return True if score < 0 else False"
   ]
  },
  {
   "cell_type": "markdown",
   "id": "f4f0512f",
   "metadata": {},
   "source": [
    "## Step 3: Initializing weights and bias randomly"
   ]
  },
  {
   "cell_type": "code",
   "execution_count": 7,
   "id": "1d67a1f3",
   "metadata": {},
   "outputs": [
    {
     "data": {
      "text/plain": [
       "(array([0.43022539, 0.4294949 ]), array([1.95251162]))"
      ]
     },
     "execution_count": 7,
     "metadata": {},
     "output_type": "execute_result"
    },
    {
     "data": {
      "image/png": "[encoded data removed]",
      "text/plain": [
       "<Figure size 432x288 with 1 Axes>"
      ]
     },
     "metadata": {
      "needs_background": "light"
     },
     "output_type": "display_data"
    }
   ],
   "source": [
    "w = np.random.uniform(0,1,2)\n",
    "b = np.random.uniform(-1,2,1)\n",
    "#w[0]*x1 + w[1]*x2 + b = 0 => x1 = - (w[1]*x2 -b)/w[0]\n",
    "x2 = np.linspace(0.,1., num=10)\n",
    "x1 = - (w[1]*x2+b)/w[0]\n",
    "plt.figure()\n",
    "plt.scatter(df[df[\"label\"] == 0][\"x1\"],df[df[\"label\"] == 0][\"x2\"])\n",
    "plt.scatter(df[df[\"label\"] == 1][\"x1\"],df[df[\"label\"] == 1][\"x2\"])\n",
    "plt.plot(x1,x2)\n",
    "w,b"
   ]
  },
  {
   "cell_type": "markdown",
   "id": "1037e3e1",
   "metadata": {},
   "source": [
    "## Step 4: Looping through dataset and updating weights and bias"
   ]
  },
  {
   "cell_type": "code",
   "execution_count": 8,
   "id": "08bc7c16",
   "metadata": {},
   "outputs": [
    {
     "data": {
      "text/plain": [
       "[<matplotlib.lines.Line2D at 0x7f84ebe155e0>]"
      ]
     },
     "execution_count": 8,
     "metadata": {},
     "output_type": "execute_result"
    },
    {
     "data": {
      "image/png": "[encoded data removed]",
      "text/plain": [
       "<Figure size 432x288 with 1 Axes>"
      ]
     },
     "metadata": {
      "needs_background": "light"
     },
     "output_type": "display_data"
    }
   ],
   "source": [
    "for i in range(1000):\n",
    "    for i in range(len(df)-1):\n",
    "        row = df.iloc[i]\n",
    "        if is_below(w,[row[\"x1\"],row[\"x2\"]]) and row[\"label\"] == 0: \n",
    "            w,b = add(w,b,[row[\"x1\"],row[\"x2\"]])\n",
    "        elif is_below(w,[row[\"x1\"],row[\"x2\"]]) == False and row[\"label\"] == 1:\n",
    "            w,b = substract(w,b,[row[\"x1\"],row[\"x2\"]])\n",
    "plt.figure()\n",
    "plt.scatter(df[df[\"label\"] == 0][\"x1\"],df[df[\"label\"] == 0][\"x2\"])\n",
    "plt.scatter(df[df[\"label\"] == 1][\"x1\"],df[df[\"label\"] == 1][\"x2\"])\n",
    "x2 = np.linspace(0.,1., num=10)\n",
    "x1 = - (w[1]*x2+b)/w[0]\n",
    "plt.plot(x1,x2)"
   ]
  }
 ],
 "metadata": {
  "kernelspec": {
   "display_name": "Python 3",
   "language": "python",
   "name": "python3"
  },
  "language_info": {
   "codemirror_mode": {
    "name": "ipython",
    "version": 3
   },
   "file_extension": ".py",
   "mimetype": "text/x-python",
   "name": "python",
   "nbconvert_exporter": "python",
   "pygments_lexer": "ipython3",
   "version": "3.9.4"
  }
 },
 "nbformat": 4,
 "nbformat_minor": 5
}
